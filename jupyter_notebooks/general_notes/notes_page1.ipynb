# SCRATCH PAD

#### this is just a log book of ideas and progress. 
