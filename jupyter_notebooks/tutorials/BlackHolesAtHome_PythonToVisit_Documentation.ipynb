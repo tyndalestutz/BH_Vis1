# BH@H Python to Visit Notes

## This is a scrappy notepad for documenting progress in VisIt

