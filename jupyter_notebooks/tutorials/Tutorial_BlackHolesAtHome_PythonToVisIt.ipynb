{
 "cells": [
  {
   "cell_type": "markdown",
   "id": "1bded43a",
   "metadata": {},
   "source": [
    "# Black Holes At Home Tutorial: Python to Visit\n",
    "\n",
    "## Author: Tyndale Stutzman\n",
    "\n",
    "## This tutorial demonstrates how to plot Synthetic Data in Visit via Python\n",
    "\n",
    "## Introduction: \n",
    "\n",
    "By using Python in conjunction with the VisIt visualization software, plots, rendering, and preferences can all be automated with the visit python library; either through the terminal, or a script. This both saves time and provides access to key attributes of plots, that would otherwise be restrictively displayed in the GUI, such as assigning variables to columns of a CSV file. This tutorial provides the necessary documentation to begin plotting synthetic data in VisIt directly from python.\n",
    "\n",
    "### Troubleshooting\n",
    "\n",
    "Troubleshooting issues with the VisIt python library can be cumbersome given the software's generic name, however, this PDF provides axhaustive documentation of nearly all functions in the library. If an issue persists, try assigning a letter to a function and calling the letter. For isntance, to display all possible arguments of `visit.MeshAttributes()` type `m = visit.MeshAttributes()` followed by `print(m)` into the python interpreter.\n",
    "\n",
    "### For 302\n",
    "\n",
    "If you are running this on the Etienne Work Computer in Room 302, skip to  \\[Step [4](#run)\\]\n",
    "\n",
    "\n",
    "###### *This notebook is very much in progress"
   ]
  },
  {
   "cell_type": "markdown",
   "id": "dacb422e",
   "metadata": {},
   "source": [
    "<a id='toc'></a>\n",
    "# Table of Contents:\n",
    "$$\\label{toc}$$\n",
    "<!--these buttons aren't functioning properly so maybe figure that out-->\n",
    "1. [Step 1](#installing_visit): Installing VisIt\n",
    "    1. [1.1](#windows): Windows\n",
    "    1. [1.2](#osx/gnu): OSX/GNU\n",
    "1. [Step 2](#installing_modules): Installing necessary python Modules\n",
    "1. [Step 3](#gen): Generate synthetic data\n",
    "    1. [3.1](#synth): Synthetic black hole merger data\n",
    "    1. [3.2](#mesh): Create sphere mesh\n",
    "1. [Step 4](#run): Python to VisIt\n",
    "    1. [4.1](#load): Load the VisIt module\n",
    "    1. [4.2](#database&plot): Load the database and plot\n",
    "    1. [4.3](#adjust): Adjust view\n",
    "    1. [4.4](#translate): Translate objects\n",
    "1. [Step 5](#tune): Fine Tuning Visit\n",
    "1. [Step 6](#conclusion): Conclusion"
   ]
  },
  {
   "cell_type": "markdown",
   "id": "0cdb251c",
   "metadata": {},
   "source": [
    "<a id='installing_visit'></a>\n",
    "# Step 1: Installing VisIt\n",
    "$$\\label{installing_visit}$$\n"
   ]
  },
  {
   "cell_type": "markdown",
   "id": "c4b17f56",
   "metadata": {},
   "source": [
    "<a id='installing_modules'></a>\n",
    "# Step 2: Installing necessary python Modules\n",
    "$$\\label{installing_modules}$$\n",
    "\n",
    "In order to generate the synthetic data, a few dependencies must first be installed. For OSX/GNU users, enter the following code in the terminal:"
   ]
  },
  {
   "cell_type": "code",
   "execution_count": null,
   "id": "ab570205",
   "metadata": {},
   "outputs": [],
   "source": [
    "pip3 install install scipy matplotlib math numpy trimesh"
   ]
  },
  {
   "cell_type": "markdown",
   "id": "ae11f3ef",
   "metadata": {},
   "source": [
    "For windows users, type the following:"
   ]
  },
  {
   "cell_type": "code",
   "execution_count": null,
   "id": "1a3d471a",
   "metadata": {},
   "outputs": [],
   "source": [
    "pip install scipy \n",
    "pip install matplotlib \n",
    "pip install math \n",
    "pip install numpy \n",
    "pip install trimesh"
   ]
  },
  {
   "cell_type": "markdown",
   "id": "84e029a1",
   "metadata": {},
   "source": [
    "<a id='gen'></a>\n",
    "# Step 3: Generate synthetic data\n",
    "$$\\label{gen}$$\n",
    "\n",
    "With the necessary modules installed, the following python script will produce a `.csv` file containing the coordinate points of a single spiralling black hole. It should be noted that this script has been modified to exclusively save the data of one black hole to the file rather than both. As the simulation becomes more comprehensive, the associated data will include more variables. \n",
    "\n",
    "Further, in order for visit to recognize the existance of an object with coordinates, the object itself must be created. In this tutorial a mesh is used to plot a sphere with `n` number of points signifying its resolution. "
   ]
  },
  {
   "cell_type": "markdown",
   "id": "83a87a35",
   "metadata": {},
   "source": [
    "<a id='synth'></a>\n",
    "## 3.1: Generate synthetic black hole merger data\n",
    "$$\\label{synth}$$\n",
    "\n",
    "This python script uses the Error Function as a close approximation to the behavior of a spiralling black hole. It samples over 1000 internvals to produce three columns containing, time, the x coordinate, and the y coordinate of the imaginary black hole. The data are then saved in their respective columns to a `.csv` file labeled 'synthetic_data_BHtxyOnly.csv.'"
   ]
  },
  {
   "cell_type": "code",
   "execution_count": null,
   "id": "fbd4b767",
   "metadata": {},
   "outputs": [],
   "source": [
    "from scipy import special\n",
    "import matplotlib as plt\n",
    "from math import pi,cos,sin\n",
    "\n",
    "# Error function\n",
    "def ERF(x,x0,w):\n",
    "    return 0.5 * (scipy.special.erf(((x)-(x0))/(w)) + 1.0)\n",
    "\n",
    "destination_directory = r\"./\"\n",
    "t_final = 2000\n",
    "num_data_pts = 1000\n",
    "deltat = (t_final)/num_data_pts\n",
    "BH1radius = 0.25\n",
    "BH2radius = 0.25\n",
    "orbital_period = 225\n",
    "omega = 2*pi/orbital_period\n",
    "  \n",
    "with open(destination_directory + \"synthetic_data_BH1txyOnly.csv\", \"w\") as file:\n",
    "    file.write(\"time BH1x BH1y BH2x BH2y\\n\")\n",
    "    for i in range(num_data_pts):\n",
    "        time = deltat * i \n",
    "        orbital_separation = ERF(time, 1000, -500) \n",
    "        # BH1 coords\n",
    "        BH1x = 0.5 * orbital_separation * cos(omega * time)\n",
    "        BH1y = 0.5 * orbital_separation * sin(omega * time)\n",
    "        BH1z = 0\n",
    "        # BH2 coords\n",
    "        BH2x = -0.5 * orbital_separation * cos(omega * time)\n",
    "        BH2y = -0.5 * orbital_separation * sin(omega * time)\n",
    "        BH2z = 0\n",
    "        \n",
    "        # Typecast\n",
    "        outstr = str(time) + \",\" + str(BH1x) + \",\" + str(BH1y) + \"\\n\"\n",
    "        file.write(outstr)\n"
   ]
  },
  {
   "cell_type": "markdown",
   "id": "fbdab89d",
   "metadata": {},
   "source": [
    "<a id='mesh'></a>\n",
    "## 3.2: Create sphere mesh\n",
    "$$\\label{mesh}$$\n",
    "\n",
    "As mentioned above, VisIt needs an object to associate with the coordinates of an imaginary black hole. This is accomplished by plotting a sphere in python with resultion determined by `n` that is then saved as an `.obj` file. VisIt will ultimately treat this file as the alleged black hole. "
   ]
  },
  {
   "cell_type": "code",
   "execution_count": null,
   "id": "11b312e7",
   "metadata": {},
   "outputs": [],
   "source": [
    "import numpy as np\n",
    "import trimesh\n",
    "\n",
    "# Create parametric surface\n",
    "def sphere(r, n_points):\n",
    "    u = np.linspace(0, 2 * np.pi, n_points)\n",
    "    v = np.linspace(0, np.pi, n_points)\n",
    "    x = r * np.outer(np.cos(u), np.sin(v))\n",
    "    y = r * np.outer(np.sin(u), np.sin(v))\n",
    "    z = r * np.outer(np.ones(np.size(u)), np.cos(v))\n",
    "    return x, y, z\n",
    "# Save the surface as .obj file\n",
    "def save_sphere_obj(x, y, z, filename):\n",
    "    faces = np.array([])\n",
    "    for i in range(x.shape[0] - 1):\n",
    "        for j in range(x.shape[1] - 1):\n",
    "            a = i * x.shape[1] + j\n",
    "            b = i * x.shape[1] + j + 1\n",
    "            c = (i + 1) * x.shape[1] + j\n",
    "            d = (i + 1) * x.shape[1] + j + 1\n",
    "            faces = np.append(faces, [a, b, c])\n",
    "            faces = np.append(faces, [b, c, d])\n",
    "    faces = faces.reshape((-1, 3)).astype(np.int64)\n",
    "    mesh = trimesh.Trimesh(vertices=np.c_[x.flatten(), y.flatten(), z.flatten()], faces=faces)\n",
    "    mesh.export(filename, file_type='obj')\n",
    "\n",
    "# Set resolution to 50pts\n",
    "n = 50\n",
    "x, y, z = sphere(1, n)\n",
    "save_sphere_obj(x, y, z, 'sphere_50pts.obj')"
   ]
  },
  {
   "cell_type": "markdown",
   "id": "05304893",
   "metadata": {},
   "source": [
    "<a id='run'></a>\n",
    "# Step 4: Python to Visit\n",
    "$$\\label{run}$$\n",
    "\n",
    "Now that the synethetic data and sample mesh are in the local directory, Python can be used to quickly render a basic visualization. \n",
    "\n",
    "###### *If you skipped to step 4, the necessary files are already in your directory"
   ]
  },
  {
   "cell_type": "markdown",
   "id": "a2bbe46b",
   "metadata": {},
   "source": [
    "<a id='load'></a>\n",
    "## 4.1: Load the VisIt module\n",
    "$$\\label{load}$$\n",
    "This directory is particular to the grad room computer, otherwise your local directory will be different. "
   ]
  },
  {
   "cell_type": "code",
   "execution_count": null,
   "id": "23dcca87",
   "metadata": {},
   "outputs": [],
   "source": [
    "# Set directory. This step is only necessary\n",
    "#   if you're not running in jupyter. \n",
    "cd\n",
    "cd Documents/VisIt/tutorial1\n",
    "\n",
    "# Launch python...\n",
    "ipython "
   ]
  },
  {
   "cell_type": "code",
   "execution_count": null,
   "id": "37d9be48",
   "metadata": {},
   "outputs": [],
   "source": [
    "# Python\n",
    "import sys\n",
    "sys.path.append(\"/usr/local/3.3.1/linux-x86_64/lib/site-packages\") \n",
    "import visit\n",
    "visit.Launch()\n",
    "import visit # second import is 'import'ant. ha, get it? \n",
    "v = visit # allows for simplifying everything to v.command"
   ]
  },
  {
   "cell_type": "markdown",
   "id": "46392ba6",
   "metadata": {},
   "source": [
    "<a id='database&plot'></a>\n",
    "## 4.2: Load database and add plot\n",
    "$$\\label{database&plot}$$\n",
    "\n",
    "The database here is also conditional to the directory. I'll add the obj gen script soon."
   ]
  },
  {
   "cell_type": "code",
   "execution_count": null,
   "id": "6d464885",
   "metadata": {},
   "outputs": [],
   "source": [
    "v.OpenDatabase(\"sphere_50pts.obj\") #\n",
    "v.AddPlot(\"Mesh\", \"OBJMesh\")\n",
    "# m = visit.MeshAttributes()\n",
    "# print(p) \n",
    "v.DrawPlots()\n",
    "\n",
    "# axis3D.bboxLocation(xmin, xmax, ymin, ymax, zmin, zmax)\n",
    "\n",
    "AnnotationAtts = v.AnnotationAttributes()\n",
    "AnnotationAtts.axes3D.bboxLocation = (-10, 10, -10, 10, -3, 3)\n",
    "v.SetAnnotationAttributes(AnnotationAtts)\n",
    "View3dAtts = v.SetView3D()\n",
    "v.SetView3D(View3DAtts) \n",
    "\n",
    "'''\n",
    "# Add second sphere\n",
    "v.AddPlot(\"Mesh\", \"OBJMesh\")\n",
    "# Move said sphere\n",
    "v.AddOperator(\"Transform\")\n",
    "t = v.GetOperatorOptions(0)\n",
    "print(t)\n",
    "'''"
   ]
  },
  {
   "cell_type": "markdown",
   "id": "b6f0fcb7",
   "metadata": {},
   "source": [
    "<a id='tune'></a>\n",
    "# Step 5: Adjust view\n",
    "$$\\label{tune}$$\n",
    "\n",
    "Here the user has a plethora of options for visualization preference. The following code demonstrates how to adjust the current view to simply appear less abrasive. \n"
   ]
  }
 ],
 "metadata": {
  "kernelspec": {
   "display_name": "Python 3 (ipykernel)",
   "language": "python",
   "name": "python3"
  },
  "language_info": {
   "codemirror_mode": {
    "name": "ipython",
    "version": 3
   },
   "file_extension": ".py",
   "mimetype": "text/x-python",
   "name": "python",
   "nbconvert_exporter": "python",
   "pygments_lexer": "ipython3",
   "version": "3.7.7"
  }
 },
 "nbformat": 4,
 "nbformat_minor": 5
}
